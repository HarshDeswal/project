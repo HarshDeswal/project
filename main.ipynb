{
 "cells": [
  {
   "cell_type": "code",
   "execution_count": 12,
   "metadata": {},
   "outputs": [],
   "source": [
    "import numpy as np\n",
    "import json\n",
    "import re\n",
    "import tensorflow as tf\n",
    "import random\n",
    "import spacy\n",
    "nlp = spacy.load('en_core_web_sm')"
   ]
  },
  {
   "cell_type": "markdown",
   "metadata": {},
   "source": [
    "Import json file"
   ]
  },
  {
   "cell_type": "code",
   "execution_count": 13,
   "metadata": {},
   "outputs": [],
   "source": [
    "with open('Intent.json') as f:\n",
    "    intents = json.load(f)"
   ]
  },
  {
   "cell_type": "markdown",
   "metadata": {},
   "source": [
    "Preprocessing data"
   ]
  },
  {
   "cell_type": "code",
   "execution_count": 14,
   "metadata": {},
   "outputs": [],
   "source": [
    "def preprocessing(line):\n",
    "    line = re.sub(r'[^a-zA-z.?!\\']', ' ', line)\n",
    "    line = re.sub(r'[ ]+', ' ', line)\n",
    "    return line"
   ]
  },
  {
   "cell_type": "code",
   "execution_count": 15,
   "metadata": {},
   "outputs": [],
   "source": [
    "# get text and intent title from json data\n",
    "inputs, targets = [], []\n",
    "classes = []\n",
    "intent_doc = {}\n",
    "\n",
    "for intent in intents['intents']:\n",
    "    if intent['intent'] not in classes:\n",
    "        classes.append(intent['intent'])\n",
    "    if intent['intent'] not in intent_doc:\n",
    "        intent_doc[intent['intent']] = []\n",
    "        \n",
    "    for text in intent['text']:\n",
    "        inputs.append(preprocessing(text))\n",
    "        targets.append(intent['intent'])\n",
    "        \n",
    "    for response in intent['responses']:\n",
    "        intent_doc[intent['intent']].append(response)"
   ]
  },
  {
   "cell_type": "code",
   "execution_count": 16,
   "metadata": {},
   "outputs": [],
   "source": [
    "def tokenize_data(input_list):\n",
    "    tokenizer = tf.keras.preprocessing.text.Tokenizer(filters='', oov_token='<unk>')\n",
    "    \n",
    "    tokenizer.fit_on_texts(input_list)\n",
    "    \n",
    "    input_seq = tokenizer.texts_to_sequences(input_list)\n",
    "\n",
    "    input_seq = tf.keras.preprocessing.sequence.pad_sequences(input_seq, padding='pre')\n",
    "    \n",
    "    return tokenizer, input_seq\n",
    "\n",
    "# preprocess input data\n",
    "tokenizer, input_tensor = tokenize_data(inputs)"
   ]
  },
  {
   "cell_type": "code",
   "execution_count": 17,
   "metadata": {},
   "outputs": [],
   "source": [
    "def create_categorical_target(targets):\n",
    "    word={}\n",
    "    categorical_target=[]\n",
    "    counter=0\n",
    "    for trg in targets:\n",
    "        if trg not in word:\n",
    "            word[trg]=counter\n",
    "            counter+=1\n",
    "        categorical_target.append(word[trg])\n",
    "    \n",
    "    categorical_tensor = tf.keras.utils.to_categorical(categorical_target, num_classes=len(word), dtype='int32')\n",
    "    return categorical_tensor, dict((v,k) for k, v in word.items())\n",
    "\n",
    "# preprocess output data\n",
    "target_tensor, trg_index_word = create_categorical_target(targets)"
   ]
  },
  {
   "cell_type": "code",
   "execution_count": 18,
   "metadata": {},
   "outputs": [
    {
     "name": "stdout",
     "output_type": "stream",
     "text": [
      "input shape: (144, 9) and output shape: (144, 22)\n"
     ]
    }
   ],
   "source": [
    "print('input shape: {} and output shape: {}'.format(input_tensor.shape, target_tensor.shape))"
   ]
  },
  {
   "cell_type": "markdown",
   "metadata": {},
   "source": [
    "Building the model"
   ]
  },
  {
   "cell_type": "code",
   "execution_count": 19,
   "metadata": {},
   "outputs": [],
   "source": [
    "# hyperparameters\n",
    "epochs=100\n",
    "vocab_size=len(tokenizer.word_index) + 1\n",
    "embed_dim=512\n",
    "units=128\n",
    "target_length=target_tensor.shape[1]"
   ]
  },
  {
   "cell_type": "code",
   "execution_count": 20,
   "metadata": {},
   "outputs": [
    {
     "name": "stderr",
     "output_type": "stream",
     "text": [
      "WARNING:absl:`lr` is deprecated in Keras optimizer, please use `learning_rate` or use the legacy optimizer, e.g.,tf.keras.optimizers.legacy.Adam.\n"
     ]
    },
    {
     "name": "stdout",
     "output_type": "stream",
     "text": [
      "Model: \"sequential_1\"\n",
      "_________________________________________________________________\n",
      " Layer (type)                Output Shape              Param #   \n",
      "=================================================================\n",
      " embedding_1 (Embedding)     (None, None, 512)         66048     \n",
      "                                                                 \n",
      " bidirectional_1 (Bidirecti  (None, 256)               656384    \n",
      " onal)                                                           \n",
      "                                                                 \n",
      " dense_2 (Dense)             (None, 128)               32896     \n",
      "                                                                 \n",
      " dropout_1 (Dropout)         (None, 128)               0         \n",
      "                                                                 \n",
      " dense_3 (Dense)             (None, 22)                2838      \n",
      "                                                                 \n",
      "=================================================================\n",
      "Total params: 758166 (2.89 MB)\n",
      "Trainable params: 758166 (2.89 MB)\n",
      "Non-trainable params: 0 (0.00 Byte)\n",
      "_________________________________________________________________\n"
     ]
    }
   ],
   "source": [
    "# build RNN Model with tensorflow\n",
    "model = tf.keras.models.Sequential([\n",
    "    tf.keras.layers.Embedding(vocab_size, embed_dim),\n",
    "    tf.keras.layers.Bidirectional(tf.keras.layers.LSTM(units, dropout=0.2)),\n",
    "    tf.keras.layers.Dense(units, activation='relu'),\n",
    "    tf.keras.layers.Dropout(0.5),\n",
    "    tf.keras.layers.Dense(target_length, activation='softmax')\n",
    "])\n",
    "\n",
    "optimizer = tf.keras.optimizers.Adam(lr=1e-2)\n",
    "model.compile(optimizer=optimizer, loss='categorical_crossentropy', metrics=['accuracy'])\n",
    "model.summary()"
   ]
  },
  {
   "cell_type": "code",
   "execution_count": 21,
   "metadata": {},
   "outputs": [
    {
     "name": "stdout",
     "output_type": "stream",
     "text": [
      "Epoch 1/100\n",
      "5/5 [==============================] - 5s 39ms/step - loss: 3.0936 - accuracy: 0.0486\n",
      "Epoch 2/100\n",
      "5/5 [==============================] - 0s 41ms/step - loss: 3.0551 - accuracy: 0.1528\n",
      "Epoch 3/100\n",
      "5/5 [==============================] - 0s 43ms/step - loss: 3.0236 - accuracy: 0.1250\n",
      "Epoch 4/100\n",
      "5/5 [==============================] - 0s 35ms/step - loss: 2.9820 - accuracy: 0.2014\n",
      "Epoch 5/100\n",
      "5/5 [==============================] - 0s 35ms/step - loss: 2.9222 - accuracy: 0.3125\n",
      "Epoch 6/100\n",
      "5/5 [==============================] - 0s 40ms/step - loss: 2.7922 - accuracy: 0.3958\n",
      "Epoch 7/100\n",
      "5/5 [==============================] - 0s 41ms/step - loss: 2.6498 - accuracy: 0.4167\n",
      "Epoch 8/100\n",
      "5/5 [==============================] - 0s 40ms/step - loss: 2.4696 - accuracy: 0.4167\n",
      "Epoch 9/100\n",
      "5/5 [==============================] - 0s 40ms/step - loss: 2.1192 - accuracy: 0.4306\n",
      "Epoch 10/100\n",
      "5/5 [==============================] - 0s 38ms/step - loss: 1.9390 - accuracy: 0.4583\n",
      "Epoch 11/100\n",
      "5/5 [==============================] - 0s 42ms/step - loss: 1.6315 - accuracy: 0.5417\n",
      "Epoch 12/100\n",
      "5/5 [==============================] - 0s 41ms/step - loss: 1.4320 - accuracy: 0.5833\n",
      "Epoch 13/100\n",
      "5/5 [==============================] - 0s 35ms/step - loss: 1.2712 - accuracy: 0.6181\n",
      "Epoch 14/100\n",
      "5/5 [==============================] - 0s 37ms/step - loss: 1.0568 - accuracy: 0.6806\n",
      "Epoch 15/100\n",
      "5/5 [==============================] - 0s 34ms/step - loss: 0.8590 - accuracy: 0.7569\n",
      "Epoch 16/100\n",
      "5/5 [==============================] - 0s 34ms/step - loss: 0.8049 - accuracy: 0.7986\n",
      "Epoch 17/100\n",
      "5/5 [==============================] - 0s 37ms/step - loss: 0.6085 - accuracy: 0.8194\n",
      "Epoch 18/100\n",
      "5/5 [==============================] - 0s 36ms/step - loss: 0.5760 - accuracy: 0.8333\n",
      "Epoch 19/100\n",
      "5/5 [==============================] - 0s 34ms/step - loss: 0.4363 - accuracy: 0.8750\n",
      "Epoch 20/100\n",
      "5/5 [==============================] - 0s 39ms/step - loss: 0.4345 - accuracy: 0.8750\n",
      "Epoch 21/100\n",
      "5/5 [==============================] - 0s 45ms/step - loss: 0.3136 - accuracy: 0.9097\n",
      "Epoch 22/100\n",
      "5/5 [==============================] - 0s 41ms/step - loss: 0.2840 - accuracy: 0.9236\n",
      "Epoch 23/100\n",
      "5/5 [==============================] - 0s 45ms/step - loss: 0.2340 - accuracy: 0.9653\n",
      "Epoch 24/100\n",
      "5/5 [==============================] - 0s 42ms/step - loss: 0.2497 - accuracy: 0.9653\n",
      "Epoch 25/100\n",
      "5/5 [==============================] - 0s 46ms/step - loss: 0.1512 - accuracy: 0.9653\n",
      "Epoch 26/100\n",
      "5/5 [==============================] - 0s 40ms/step - loss: 0.1205 - accuracy: 0.9861\n",
      "Epoch 27/100\n",
      "5/5 [==============================] - 0s 36ms/step - loss: 0.1314 - accuracy: 0.9583\n",
      "Epoch 28/100\n",
      "5/5 [==============================] - 0s 38ms/step - loss: 0.0887 - accuracy: 0.9861\n",
      "Epoch 29/100\n",
      "5/5 [==============================] - 0s 35ms/step - loss: 0.1079 - accuracy: 0.9861\n",
      "Epoch 30/100\n",
      "5/5 [==============================] - 0s 36ms/step - loss: 0.0999 - accuracy: 0.9792\n",
      "Epoch 31/100\n",
      "5/5 [==============================] - 0s 36ms/step - loss: 0.0617 - accuracy: 0.9861\n",
      "Epoch 32/100\n",
      "5/5 [==============================] - 0s 43ms/step - loss: 0.0770 - accuracy: 0.9931\n",
      "Epoch 33/100\n",
      "5/5 [==============================] - 0s 36ms/step - loss: 0.0451 - accuracy: 1.0000\n",
      "Epoch 34/100\n",
      "5/5 [==============================] - 0s 35ms/step - loss: 0.0481 - accuracy: 1.0000\n",
      "Epoch 35/100\n",
      "5/5 [==============================] - 0s 34ms/step - loss: 0.0314 - accuracy: 1.0000\n",
      "Epoch 36/100\n",
      "5/5 [==============================] - 0s 35ms/step - loss: 0.0331 - accuracy: 0.9931\n",
      "Epoch 37/100\n",
      "5/5 [==============================] - 0s 39ms/step - loss: 0.0389 - accuracy: 0.9931\n",
      "Epoch 38/100\n",
      "5/5 [==============================] - 0s 41ms/step - loss: 0.0248 - accuracy: 1.0000\n",
      "Epoch 39/100\n",
      "5/5 [==============================] - 0s 40ms/step - loss: 0.0237 - accuracy: 1.0000\n",
      "Epoch 40/100\n",
      "5/5 [==============================] - 0s 36ms/step - loss: 0.0187 - accuracy: 1.0000\n",
      "Epoch 41/100\n",
      "5/5 [==============================] - 0s 34ms/step - loss: 0.0161 - accuracy: 1.0000\n",
      "Epoch 42/100\n",
      "5/5 [==============================] - 0s 40ms/step - loss: 0.0327 - accuracy: 0.9861\n",
      "Epoch 43/100\n",
      "5/5 [==============================] - 0s 34ms/step - loss: 0.0195 - accuracy: 1.0000\n",
      "Epoch 44/100\n",
      "5/5 [==============================] - 0s 34ms/step - loss: 0.0265 - accuracy: 0.9931\n",
      "Epoch 45/100\n",
      "5/5 [==============================] - 0s 37ms/step - loss: 0.0231 - accuracy: 0.9931\n"
     ]
    }
   ],
   "source": [
    "early_stop = tf.keras.callbacks.EarlyStopping(monitor='loss', patience=4)\n",
    "\n",
    "# train the model\n",
    "model.fit(input_tensor, target_tensor, epochs=epochs, callbacks=[early_stop])\n",
    "model.save(\"model.h5\")"
   ]
  },
  {
   "cell_type": "code",
   "execution_count": 22,
   "metadata": {},
   "outputs": [],
   "source": [
    "def response(sentence):\n",
    "    sent_seq = []\n",
    "    doc = nlp(repr(sentence))\n",
    "    \n",
    "    # split the input sentences into words\n",
    "    for token in doc:\n",
    "        if token.text in tokenizer.word_index:\n",
    "            sent_seq.append(tokenizer.word_index[token.text])\n",
    "\n",
    "        # handle the unknown words error\n",
    "        else:\n",
    "            sent_seq.append(tokenizer.word_index['<unk>'])\n",
    "\n",
    "    sent_seq = tf.expand_dims(sent_seq, 0)\n",
    "    # predict the category of input sentences\n",
    "    pred = model(sent_seq)\n",
    "\n",
    "    pred_class = np.argmax(pred.numpy(), axis=1)\n",
    "    \n",
    "    # choice a random response for predicted sentence\n",
    "    return random.choice(intent_doc[trg_index_word[pred_class[0]]]), trg_index_word[pred_class[0]]\n"
   ]
  }
 ],
 "metadata": {
  "kernelspec": {
   "display_name": "Python 3",
   "language": "python",
   "name": "python3"
  },
  "language_info": {
   "codemirror_mode": {
    "name": "ipython",
    "version": 3
   },
   "file_extension": ".py",
   "mimetype": "text/x-python",
   "name": "python",
   "nbconvert_exporter": "python",
   "pygments_lexer": "ipython3",
   "version": "3.10.2"
  }
 },
 "nbformat": 4,
 "nbformat_minor": 2
}
